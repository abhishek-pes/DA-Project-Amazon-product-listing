{
  "nbformat": 4,
  "nbformat_minor": 0,
  "metadata": {
    "colab": {
      "name": "AmazonNlpTest.ipynb",
      "provenance": [],
      "collapsed_sections": [],
      "authorship_tag": "ABX9TyPoKKAhVIS3UmagKsof2W1i",
      "include_colab_link": true
    },
    "kernelspec": {
      "name": "python3",
      "display_name": "Python 3"
    },
    "language_info": {
      "name": "python"
    }
  },
  "cells": [
    {
      "cell_type": "markdown",
      "metadata": {
        "id": "view-in-github",
        "colab_type": "text"
      },
      "source": [
        "<a href=\"https://colab.research.google.com/github/abhishek-pes/DA-Project-Amazon-product-listing/blob/main/AmazonNlpTest.ipynb\" target=\"_parent\"><img src=\"https://colab.research.google.com/assets/colab-badge.svg\" alt=\"Open In Colab\"/></a>"
      ]
    },
    {
      "cell_type": "markdown",
      "metadata": {
        "id": "DgXTLEtfNwBM"
      },
      "source": [
        "#TEAM DATA 404\n",
        "## Amazon product classification\n",
        "\n",
        "Test playground No EDA"
      ]
    },
    {
      "cell_type": "code",
      "metadata": {
        "id": "3ZQKASYBfPdQ"
      },
      "source": [
        "import pandas as pd\n",
        "import numpy as np\n",
        "from datetime import datetime"
      ],
      "execution_count": 1,
      "outputs": []
    },
    {
      "cell_type": "code",
      "metadata": {
        "colab": {
          "base_uri": "https://localhost:8080/",
          "height": 449
        },
        "id": "FmND4UT6fZ8A",
        "outputId": "228fdaba-7c6c-45ba-ae16-c98fa6d9c911"
      },
      "source": [
        "url = 'https://raw.githubusercontent.com/abhishek-pes/DA-Project-Amazon-product-listing/main/test/cleaned_data.csv'\n",
        "amzn = pd.read_csv(url, error_bad_lines=False)\n",
        "amzn.head()"
      ],
      "execution_count": 2,
      "outputs": [
        {
          "output_type": "execute_result",
          "data": {
            "text/html": [
              "<div>\n",
              "<style scoped>\n",
              "    .dataframe tbody tr th:only-of-type {\n",
              "        vertical-align: middle;\n",
              "    }\n",
              "\n",
              "    .dataframe tbody tr th {\n",
              "        vertical-align: top;\n",
              "    }\n",
              "\n",
              "    .dataframe thead th {\n",
              "        text-align: right;\n",
              "    }\n",
              "</style>\n",
              "<table border=\"1\" class=\"dataframe\">\n",
              "  <thead>\n",
              "    <tr style=\"text-align: right;\">\n",
              "      <th></th>\n",
              "      <th>Unnamed: 0</th>\n",
              "      <th>Uniq Id</th>\n",
              "      <th>Crawl Timestamp</th>\n",
              "      <th>Category</th>\n",
              "      <th>Product Title</th>\n",
              "      <th>Product Description</th>\n",
              "      <th>Brand</th>\n",
              "      <th>Pack Size Or Quantity</th>\n",
              "      <th>Mrp</th>\n",
              "      <th>Price</th>\n",
              "      <th>Offers</th>\n",
              "      <th>Combo Offers</th>\n",
              "      <th>Stock Availibility</th>\n",
              "    </tr>\n",
              "  </thead>\n",
              "  <tbody>\n",
              "    <tr>\n",
              "      <th>0</th>\n",
              "      <td>0</td>\n",
              "      <td>eb49cc038190f6f03c272f79fbbce894</td>\n",
              "      <td>2019-10-30 11:38:11+00:00</td>\n",
              "      <td>Skin Care</td>\n",
              "      <td>Lee posh Lactic Acid 60% Anti ageing Pigmenta...</td>\n",
              "      <td>PROFESSIONAL GRADE Face Peel: this peel stimul...</td>\n",
              "      <td>Lee Posh</td>\n",
              "      <td>-</td>\n",
              "      <td>2000.0</td>\n",
              "      <td>799.0</td>\n",
              "      <td>60.050000</td>\n",
              "      <td>0</td>\n",
              "      <td>1</td>\n",
              "    </tr>\n",
              "    <tr>\n",
              "      <th>1</th>\n",
              "      <td>1</td>\n",
              "      <td>1657cc30c438affede6a5060d6847363</td>\n",
              "      <td>2019-10-31 15:46:54+00:00</td>\n",
              "      <td>Skin Care</td>\n",
              "      <td>Branded SLB Works New 1.5mm Titanium 1200 nee...</td>\n",
              "      <td>Item name: 1.5mm titanium 1200 needles microne...</td>\n",
              "      <td>SLB Works</td>\n",
              "      <td>-</td>\n",
              "      <td>2040.0</td>\n",
              "      <td>2040.0</td>\n",
              "      <td>0.000000</td>\n",
              "      <td>0</td>\n",
              "      <td>1</td>\n",
              "    </tr>\n",
              "    <tr>\n",
              "      <th>2</th>\n",
              "      <td>2</td>\n",
              "      <td>41654633cce38c8650690f6dbac01fd3</td>\n",
              "      <td>2019-10-30 09:53:23+00:00</td>\n",
              "      <td>Skin Care</td>\n",
              "      <td>Generic 1 Pc brand snail eye cream remove dar...</td>\n",
              "      <td>Use: eye, item type: cream, net wt: 20g, gzzz:...</td>\n",
              "      <td>Generic</td>\n",
              "      <td>-</td>\n",
              "      <td>1824.0</td>\n",
              "      <td>1042.0</td>\n",
              "      <td>42.872807</td>\n",
              "      <td>0</td>\n",
              "      <td>1</td>\n",
              "    </tr>\n",
              "    <tr>\n",
              "      <th>3</th>\n",
              "      <td>3</td>\n",
              "      <td>08b1bd85c3efc2d7aa556fd79b073382</td>\n",
              "      <td>2019-10-29 16:16:52+00:00</td>\n",
              "      <td>Skin Care</td>\n",
              "      <td>Generic Anti Snoring Snore Stopper Sleep Apne...</td>\n",
              "      <td>Prevent the tongue from dropping backward or b...</td>\n",
              "      <td>Generic</td>\n",
              "      <td>-</td>\n",
              "      <td>2185.0</td>\n",
              "      <td>1399.0</td>\n",
              "      <td>35.972540</td>\n",
              "      <td>0</td>\n",
              "      <td>1</td>\n",
              "    </tr>\n",
              "    <tr>\n",
              "      <th>4</th>\n",
              "      <td>4</td>\n",
              "      <td>f89b246d4e27c11623dbc7742523f319</td>\n",
              "      <td>2019-10-30 19:14:20+00:00</td>\n",
              "      <td>Skin Care</td>\n",
              "      <td>Shikai Borage Dry Skin Therapy Foot Cream, 4....</td>\n",
              "      <td>Package Quantity:3 Contains borage oil, clinic...</td>\n",
              "      <td>ShiKai</td>\n",
              "      <td>354 g</td>\n",
              "      <td>5344.0</td>\n",
              "      <td>5344.0</td>\n",
              "      <td>0.000000</td>\n",
              "      <td>0</td>\n",
              "      <td>1</td>\n",
              "    </tr>\n",
              "  </tbody>\n",
              "</table>\n",
              "</div>"
            ],
            "text/plain": [
              "   Unnamed: 0  ... Stock Availibility\n",
              "0           0  ...                  1\n",
              "1           1  ...                  1\n",
              "2           2  ...                  1\n",
              "3           3  ...                  1\n",
              "4           4  ...                  1\n",
              "\n",
              "[5 rows x 13 columns]"
            ]
          },
          "metadata": {},
          "execution_count": 2
        }
      ]
    },
    {
      "cell_type": "code",
      "metadata": {
        "id": "bNslpAGGfou4"
      },
      "source": [
        "# converting to lower case\n",
        "amzn['Product Description'] =  amzn['Product Description'].str.lower()"
      ],
      "execution_count": 3,
      "outputs": []
    },
    {
      "cell_type": "code",
      "metadata": {
        "id": "_SP-opsXfuQH"
      },
      "source": [
        "# removing punctuations and numnerical values\n",
        "import re,string\n",
        "amzn['Product Description'] = amzn['Product Description'].str.replace('[^\\w\\s]','')\n",
        "amzn['Product Description'] = amzn['Product Description'].str.replace('\\d+', '')"
      ],
      "execution_count": 4,
      "outputs": []
    },
    {
      "cell_type": "code",
      "metadata": {
        "colab": {
          "base_uri": "https://localhost:8080/"
        },
        "id": "VHmopc_ofv7H",
        "outputId": "a386018d-d1a1-4afa-dfd4-118f3da5d311"
      },
      "source": [
        "import nltk\n",
        "nltk.download('stopwords')"
      ],
      "execution_count": 5,
      "outputs": [
        {
          "output_type": "stream",
          "name": "stdout",
          "text": [
            "[nltk_data] Downloading package stopwords to /root/nltk_data...\n",
            "[nltk_data]   Package stopwords is already up-to-date!\n"
          ]
        },
        {
          "output_type": "execute_result",
          "data": {
            "text/plain": [
              "True"
            ]
          },
          "metadata": {},
          "execution_count": 5
        }
      ]
    },
    {
      "cell_type": "code",
      "metadata": {
        "id": "RdjaREGJfycg"
      },
      "source": [
        "# Import stopwords with nltk.\n",
        "from nltk.corpus import stopwords\n",
        "stop = stopwords.words('english')\n",
        "\n",
        "# Exclude stopwords with Python's list comprehension and pandas.DataFrame.apply.\n",
        "amzn['Product Description'] = amzn['Product Description'].apply(lambda x: ' '.join([word for word in x.split() if word not in (stop)]))"
      ],
      "execution_count": 6,
      "outputs": []
    },
    {
      "cell_type": "code",
      "metadata": {
        "colab": {
          "base_uri": "https://localhost:8080/"
        },
        "id": "Wl4IGWpKf0eP",
        "outputId": "525d2f7d-6c44-4f29-829e-e806fdb3aef8"
      },
      "source": [
        " nltk.download('punkt')"
      ],
      "execution_count": 7,
      "outputs": [
        {
          "output_type": "stream",
          "name": "stdout",
          "text": [
            "[nltk_data] Downloading package punkt to /root/nltk_data...\n",
            "[nltk_data]   Package punkt is already up-to-date!\n"
          ]
        },
        {
          "output_type": "execute_result",
          "data": {
            "text/plain": [
              "True"
            ]
          },
          "metadata": {},
          "execution_count": 7
        }
      ]
    },
    {
      "cell_type": "code",
      "metadata": {
        "id": "mrZK5oB7f2yP"
      },
      "source": [
        "#defining function for tokenization\n",
        "from nltk.tokenize import sent_tokenize, word_tokenize\n",
        "def tokenization(text):\n",
        "    tokens = sent_tokenize(text)\n",
        "    return tokens\n",
        "#applying function to the column\n",
        "amzn['Product Description']= amzn['Product Description'].apply(lambda x: tokenization(x))"
      ],
      "execution_count": 8,
      "outputs": []
    },
    {
      "cell_type": "code",
      "metadata": {
        "colab": {
          "base_uri": "https://localhost:8080/"
        },
        "id": "Y7HiHMEDf2q3",
        "outputId": "a89d8f22-f67e-4152-b223-1fb3ca8ab629"
      },
      "source": [
        "amzn['Product Description']"
      ],
      "execution_count": 9,
      "outputs": [
        {
          "output_type": "execute_result",
          "data": {
            "text/plain": [
              "0        [professional grade face peel peel stimulates ...\n",
              "1        [item name mm titanium needles microneedles me...\n",
              "2        [use eye item type cream net wt g gzzz ygzwbz ...\n",
              "3        [prevent tongue dropping backward block airway...\n",
              "4        [package quantity contains borage oil clinical...\n",
              "                               ...                        \n",
              "28005    [needful sky drop washing liquid laundry deter...\n",
              "28006    [tides new ultra matic laundry detergent powde...\n",
              "28007    [new ariel matic liquid detergent gives tough ...\n",
              "28008    [needful cleans softens freshens protects fabr...\n",
              "28009    [item package quantity zout triple enzyme form...\n",
              "Name: Product Description, Length: 28010, dtype: object"
            ]
          },
          "metadata": {},
          "execution_count": 9
        }
      ]
    },
    {
      "cell_type": "code",
      "metadata": {
        "id": "EZbPAopzf2oX"
      },
      "source": [
        "#importing the Stemming function from nltk library\n",
        "from nltk.stem.porter import PorterStemmer\n",
        "#defining the object for stemming\n",
        "porter_stemmer = PorterStemmer()"
      ],
      "execution_count": 10,
      "outputs": []
    },
    {
      "cell_type": "code",
      "metadata": {
        "id": "s3xFCmg8f2DX"
      },
      "source": [
        "#defining a function for stemming\n",
        "def stemming(text):\n",
        "  stem_text = [porter_stemmer.stem(word) for word in text]\n",
        "  return stem_text\n",
        "amzn['Product Description']=amzn['Product Description'].apply(lambda x: stemming(x))"
      ],
      "execution_count": 11,
      "outputs": []
    },
    {
      "cell_type": "code",
      "metadata": {
        "id": "5S9CX1_6gIjR"
      },
      "source": [
        "from nltk.stem import WordNetLemmatizer\n",
        "#defining the object for Lemmatization\n",
        "wordnet_lemmatizer = WordNetLemmatizer()"
      ],
      "execution_count": 12,
      "outputs": []
    },
    {
      "cell_type": "code",
      "metadata": {
        "colab": {
          "base_uri": "https://localhost:8080/"
        },
        "id": "2qbXGAKSgIdA",
        "outputId": "7eea99f1-7257-4c84-bc43-cde08d4068a3"
      },
      "source": [
        "nltk.download('wordnet')"
      ],
      "execution_count": 13,
      "outputs": [
        {
          "output_type": "stream",
          "name": "stdout",
          "text": [
            "[nltk_data] Downloading package wordnet to /root/nltk_data...\n",
            "[nltk_data]   Package wordnet is already up-to-date!\n"
          ]
        },
        {
          "output_type": "execute_result",
          "data": {
            "text/plain": [
              "True"
            ]
          },
          "metadata": {},
          "execution_count": 13
        }
      ]
    },
    {
      "cell_type": "code",
      "metadata": {
        "id": "GVlpqIZWgIX3"
      },
      "source": [
        "#defining the function for lemmatization\n",
        "def lemmatizer(text):\n",
        "  lemm_text = [wordnet_lemmatizer.lemmatize(word) for word in text]\n",
        "  return lemm_text\n",
        "amzn['Product Description']=amzn['Product Description'].apply(lambda x:lemmatizer(x))"
      ],
      "execution_count": 14,
      "outputs": []
    },
    {
      "cell_type": "code",
      "metadata": {
        "id": "DSKG1HLSgIPv"
      },
      "source": [
        "# Need to convert to vector form using tfidf, bag of words or count vectorizer\n",
        "from sklearn.feature_extraction.text import TfidfVectorizer\n",
        "amzn['test_text'] = amzn['Product Description'].apply(lambda x: ' '.join(x))"
      ],
      "execution_count": 15,
      "outputs": []
    },
    {
      "cell_type": "code",
      "metadata": {
        "id": "5jUTRAQ1gQF4"
      },
      "source": [
        "vectorizer = TfidfVectorizer(ngram_range=(1,2))\n",
        "X = vectorizer.fit_transform(amzn['test_text'])"
      ],
      "execution_count": 16,
      "outputs": []
    },
    {
      "cell_type": "markdown",
      "metadata": {
        "id": "uHOsDdkNgZKf"
      },
      "source": [
        "## Model Building"
      ]
    },
    {
      "cell_type": "markdown",
      "metadata": {
        "id": "PGKz-hlJgbQW"
      },
      "source": [
        "### Splitting dataset"
      ]
    },
    {
      "cell_type": "code",
      "metadata": {
        "id": "bpZvIR3BgPz3"
      },
      "source": [
        "from sklearn.model_selection import train_test_split\n",
        "from sklearn.svm import SVC"
      ],
      "execution_count": 17,
      "outputs": []
    },
    {
      "cell_type": "code",
      "metadata": {
        "id": "bnlZ5oWJgiLJ"
      },
      "source": [
        "from sklearn.metrics import classification_report,confusion_matrix,accuracy_score,r2_score,f1_score\n",
        "from math import sqrt"
      ],
      "execution_count": 18,
      "outputs": []
    },
    {
      "cell_type": "code",
      "metadata": {
        "id": "OXZn_Y6kgiI3"
      },
      "source": [
        "X_train, X_test, y_train, y_test = train_test_split(X, amzn['Category'], test_size=0.30, random_state = 50)    \n",
        "clf = SVC(kernel='linear').fit(X_train, y_train)"
      ],
      "execution_count": 19,
      "outputs": []
    },
    {
      "cell_type": "markdown",
      "metadata": {
        "id": "j3PSxoQmgrQ4"
      },
      "source": [
        "### Support vector"
      ]
    },
    {
      "cell_type": "code",
      "metadata": {
        "colab": {
          "base_uri": "https://localhost:8080/"
        },
        "id": "Rl_5V16JgiG3",
        "outputId": "f39ceba6-36c9-467c-8ad7-703571966c69"
      },
      "source": [
        "predictions = clf.predict(X_test)\n",
        "from sklearn.metrics import classification_report\n",
        "print (classification_report(y_test, predictions))"
      ],
      "execution_count": 20,
      "outputs": [
        {
          "output_type": "stream",
          "name": "stdout",
          "text": [
            "                         precision    recall  f1-score   support\n",
            "\n",
            "          Bath & Shower       0.70      0.28      0.40       647\n",
            "  Detergents & Dishwash       0.96      0.51      0.67        53\n",
            "              Fragrance       0.85      0.81      0.83       582\n",
            "Grocery & Gourmet Foods       0.98      0.97      0.98      2195\n",
            "              Hair Care       0.91      0.79      0.85       692\n",
            "              Skin Care       0.85      0.96      0.90      4234\n",
            "\n",
            "               accuracy                           0.88      8403\n",
            "              macro avg       0.87      0.72      0.77      8403\n",
            "           weighted avg       0.88      0.88      0.87      8403\n",
            "\n"
          ]
        }
      ]
    },
    {
      "cell_type": "code",
      "metadata": {
        "colab": {
          "base_uri": "https://localhost:8080/"
        },
        "id": "1mpq4Y2GgiEq",
        "outputId": "2ec543c1-1e66-4fee-ddf1-6803bdbd3300"
      },
      "source": [
        "print(\"accuracy on test:\",accuracy_score(y_test,predictions))\n",
        "svc_score = accuracy_score(y_test,predictions)"
      ],
      "execution_count": 21,
      "outputs": [
        {
          "output_type": "stream",
          "name": "stdout",
          "text": [
            "accuracy on test: 0.88230393906938\n"
          ]
        }
      ]
    },
    {
      "cell_type": "markdown",
      "metadata": {
        "id": "2Ovq9LF3gtmf"
      },
      "source": [
        "### Multinomial Naive bayes"
      ]
    },
    {
      "cell_type": "code",
      "metadata": {
        "id": "j1Jqt2YEgiCE"
      },
      "source": [
        "from sklearn.naive_bayes import MultinomialNB\n",
        "mNb = MultinomialNB(alpha=0.1, class_prior=None, fit_prior=True)"
      ],
      "execution_count": 22,
      "outputs": []
    },
    {
      "cell_type": "code",
      "metadata": {
        "colab": {
          "base_uri": "https://localhost:8080/"
        },
        "id": "iuiS9MOMgiAA",
        "outputId": "bc6a1ad0-1fae-4b8c-e95f-aa75871cd5f4"
      },
      "source": [
        "mNb.fit(X_train,y_train)"
      ],
      "execution_count": 23,
      "outputs": [
        {
          "output_type": "execute_result",
          "data": {
            "text/plain": [
              "MultinomialNB(alpha=0.1)"
            ]
          },
          "metadata": {},
          "execution_count": 23
        }
      ]
    },
    {
      "cell_type": "code",
      "metadata": {
        "colab": {
          "base_uri": "https://localhost:8080/"
        },
        "id": "HH1Ox_pDgh9q",
        "outputId": "b3d54be9-e873-4815-8673-266b53bc7c9c"
      },
      "source": [
        "predictions_mNb = mNb.predict(X_test)\n",
        "print (classification_report(y_test, predictions_mNb,labels=np.unique(predictions_mNb)))"
      ],
      "execution_count": 24,
      "outputs": [
        {
          "output_type": "stream",
          "name": "stdout",
          "text": [
            "                         precision    recall  f1-score   support\n",
            "\n",
            "          Bath & Shower       0.59      0.32      0.42       647\n",
            "  Detergents & Dishwash       1.00      0.25      0.39        53\n",
            "              Fragrance       0.84      0.85      0.85       582\n",
            "Grocery & Gourmet Foods       0.98      0.98      0.98      2195\n",
            "              Hair Care       0.91      0.77      0.83       692\n",
            "              Skin Care       0.86      0.94      0.90      4234\n",
            "\n",
            "               accuracy                           0.88      8403\n",
            "              macro avg       0.86      0.68      0.73      8403\n",
            "           weighted avg       0.87      0.88      0.87      8403\n",
            "\n"
          ]
        }
      ]
    },
    {
      "cell_type": "code",
      "metadata": {
        "colab": {
          "base_uri": "https://localhost:8080/"
        },
        "id": "7opIRWrIgh7Z",
        "outputId": "db721c5f-2109-45ce-8724-29928b0f58c6"
      },
      "source": [
        "print(\"accuracy:\",accuracy_score(y_test,predictions_mNb))\n",
        "mnb_score = accuracy_score(y_test,predictions_mNb)"
      ],
      "execution_count": 25,
      "outputs": [
        {
          "output_type": "stream",
          "name": "stdout",
          "text": [
            "accuracy: 0.8790908009044389\n"
          ]
        }
      ]
    },
    {
      "cell_type": "markdown",
      "metadata": {
        "id": "9EmHRs1gg2cQ"
      },
      "source": [
        "### Random forest classifier"
      ]
    },
    {
      "cell_type": "code",
      "metadata": {
        "colab": {
          "base_uri": "https://localhost:8080/"
        },
        "id": "N8lfCn3Lgh4_",
        "outputId": "3db6907c-147c-40a2-ed47-413d388afd70"
      },
      "source": [
        "from sklearn.ensemble import RandomForestClassifier\n",
        "rfc = RandomForestClassifier(n_estimators=200,max_depth=8, random_state=0,criterion=\"entropy\")\n",
        "rfc.fit(X_train, y_train)"
      ],
      "execution_count": 26,
      "outputs": [
        {
          "output_type": "execute_result",
          "data": {
            "text/plain": [
              "RandomForestClassifier(criterion='entropy', max_depth=8, n_estimators=200,\n",
              "                       random_state=0)"
            ]
          },
          "metadata": {},
          "execution_count": 26
        }
      ]
    },
    {
      "cell_type": "code",
      "metadata": {
        "colab": {
          "base_uri": "https://localhost:8080/"
        },
        "id": "3sS7Dtuygh1J",
        "outputId": "d40c3973-beea-4da0-badf-6699b85194ad"
      },
      "source": [
        "predictions_rfc = rfc.predict(X_test)\n",
        "print (classification_report(y_test, predictions_rfc,labels=np.unique(predictions_rfc)))"
      ],
      "execution_count": 27,
      "outputs": [
        {
          "output_type": "stream",
          "name": "stdout",
          "text": [
            "                         precision    recall  f1-score   support\n",
            "\n",
            "              Fragrance       1.00      0.10      0.19       582\n",
            "Grocery & Gourmet Foods       1.00      0.31      0.47      2195\n",
            "              Skin Care       0.55      1.00      0.71      4234\n",
            "\n",
            "              micro avg       0.59      0.71      0.64      7011\n",
            "              macro avg       0.85      0.47      0.46      7011\n",
            "           weighted avg       0.73      0.71      0.59      7011\n",
            "\n"
          ]
        }
      ]
    },
    {
      "cell_type": "code",
      "metadata": {
        "colab": {
          "base_uri": "https://localhost:8080/"
        },
        "id": "akRq0OI_ghyn",
        "outputId": "fd47fe9f-5a07-4172-ed39-d025ff91f32d"
      },
      "source": [
        "print(\"accuracy:\",accuracy_score(y_test,predictions_rfc))\n",
        "rfc_score = accuracy_score(y_test,predictions_rfc)"
      ],
      "execution_count": 28,
      "outputs": [
        {
          "output_type": "stream",
          "name": "stdout",
          "text": [
            "accuracy: 0.5915744377008212\n"
          ]
        }
      ]
    },
    {
      "cell_type": "markdown",
      "metadata": {
        "id": "KkkM7UcNhCV3"
      },
      "source": [
        "### Gradient boosting"
      ]
    },
    {
      "cell_type": "code",
      "metadata": {
        "id": "ODuEl7wAhEPO"
      },
      "source": [
        "from xgboost import XGBClassifier"
      ],
      "execution_count": 29,
      "outputs": []
    },
    {
      "cell_type": "code",
      "metadata": {
        "colab": {
          "base_uri": "https://localhost:8080/"
        },
        "id": "vDkS7E0AhEio",
        "outputId": "497965ae-c82d-448c-8517-017e8530d50b"
      },
      "source": [
        "# fit model no training data\n",
        "model = XGBClassifier()\n",
        "model.fit(X_train, y_train)"
      ],
      "execution_count": 30,
      "outputs": [
        {
          "output_type": "execute_result",
          "data": {
            "text/plain": [
              "XGBClassifier(objective='multi:softprob')"
            ]
          },
          "metadata": {},
          "execution_count": 30
        }
      ]
    },
    {
      "cell_type": "code",
      "metadata": {
        "colab": {
          "base_uri": "https://localhost:8080/"
        },
        "id": "qsMmQSCXhEgy",
        "outputId": "5739bcdc-026a-4d9a-a2e4-2519e2f85961"
      },
      "source": [
        "y_pred = model.predict(X_test)\n",
        "print(classification_report(y_test, y_pred,labels=np.unique(y_pred)))\n",
        "# evaluate predictions\n",
        "xgb_score = accuracy_score(y_test, y_pred)\n",
        "print(\"Accuracy: %.2f%%\" % (xgb_score * 100.0))"
      ],
      "execution_count": 31,
      "outputs": [
        {
          "output_type": "stream",
          "name": "stdout",
          "text": [
            "                         precision    recall  f1-score   support\n",
            "\n",
            "          Bath & Shower       0.63      0.32      0.42       647\n",
            "  Detergents & Dishwash       1.00      0.47      0.64        53\n",
            "              Fragrance       0.83      0.77      0.80       582\n",
            "Grocery & Gourmet Foods       0.97      0.82      0.89      2195\n",
            "              Hair Care       0.87      0.79      0.83       692\n",
            "              Skin Care       0.79      0.94      0.86      4234\n",
            "\n",
            "               accuracy                           0.83      8403\n",
            "              macro avg       0.85      0.68      0.74      8403\n",
            "           weighted avg       0.84      0.83      0.82      8403\n",
            "\n",
            "Accuracy: 83.30%\n"
          ]
        }
      ]
    },
    {
      "cell_type": "markdown",
      "metadata": {
        "id": "QbwrbNabhKir"
      },
      "source": [
        "### Perceptron model"
      ]
    },
    {
      "cell_type": "code",
      "metadata": {
        "colab": {
          "base_uri": "https://localhost:8080/"
        },
        "id": "WxI4e9fuhEeq",
        "outputId": "2e2b9f7d-8474-4c11-a0e5-25ed7ffa350e"
      },
      "source": [
        "from sklearn.linear_model import Perceptron\n",
        "perc = Perceptron(penalty=None, alpha=0.5, fit_intercept=True, shuffle=False, verbose=0, eta0=1.0, n_jobs=1, random_state=0, class_weight=None, warm_start=False)\n",
        "perc.fit(X_train,y_train)"
      ],
      "execution_count": 32,
      "outputs": [
        {
          "output_type": "execute_result",
          "data": {
            "text/plain": [
              "Perceptron(alpha=0.5, n_jobs=1, shuffle=False)"
            ]
          },
          "metadata": {},
          "execution_count": 32
        }
      ]
    },
    {
      "cell_type": "code",
      "metadata": {
        "colab": {
          "base_uri": "https://localhost:8080/"
        },
        "id": "iYHlmYZhhEVI",
        "outputId": "2aa755d4-2e36-478d-e550-4488350a2906"
      },
      "source": [
        "predictions_perc = perc.predict(X_test)\n",
        "print (classification_report(y_test, predictions_perc,labels=np.unique(predictions_perc)))"
      ],
      "execution_count": 33,
      "outputs": [
        {
          "output_type": "stream",
          "name": "stdout",
          "text": [
            "                         precision    recall  f1-score   support\n",
            "\n",
            "          Bath & Shower       0.54      0.43      0.48       647\n",
            "  Detergents & Dishwash       0.59      0.89      0.71        53\n",
            "              Fragrance       0.81      0.89      0.85       582\n",
            "Grocery & Gourmet Foods       0.95      0.98      0.96      2195\n",
            "              Hair Care       0.82      0.87      0.84       692\n",
            "              Skin Care       0.90      0.89      0.90      4234\n",
            "\n",
            "               accuracy                           0.88      8403\n",
            "              macro avg       0.77      0.82      0.79      8403\n",
            "           weighted avg       0.87      0.88      0.87      8403\n",
            "\n"
          ]
        }
      ]
    },
    {
      "cell_type": "code",
      "metadata": {
        "colab": {
          "base_uri": "https://localhost:8080/"
        },
        "id": "3C1cLmIFhETb",
        "outputId": "bf623b4f-4f17-4c4c-934d-c079c626f7a3"
      },
      "source": [
        "print(\"accuracy:\",accuracy_score(y_test,predictions_perc))\n",
        "percp_score = accuracy_score(y_test,predictions_perc)"
      ],
      "execution_count": 34,
      "outputs": [
        {
          "output_type": "stream",
          "name": "stdout",
          "text": [
            "accuracy: 0.876710698560038\n"
          ]
        }
      ]
    }
  ]
}